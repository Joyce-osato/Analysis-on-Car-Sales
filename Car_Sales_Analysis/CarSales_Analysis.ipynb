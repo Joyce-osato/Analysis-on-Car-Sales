{
 "cells": [
  {
   "cell_type": "code",
   "execution_count": 1,
   "id": "69206fd8-ca40-48b2-9f4a-bf463c069fc8",
   "metadata": {},
   "outputs": [],
   "source": [
    "import numpy as np\n",
    "import pandas as pd\n",
    "import matplotlib.pyplot as plt\n",
    "import seaborn as sns"
   ]
  },
  {
   "cell_type": "code",
   "execution_count": 2,
   "id": "4c809a0b-a903-4f0a-bfb0-e3b43575daf0",
   "metadata": {},
   "outputs": [
    {
     "ename": "FileNotFoundError",
     "evalue": "[Errno 2] No such file or directory: 'Car_sales.csv'",
     "output_type": "error",
     "traceback": [
      "\u001b[1;31m---------------------------------------------------------------------------\u001b[0m",
      "\u001b[1;31mFileNotFoundError\u001b[0m                         Traceback (most recent call last)",
      "Cell \u001b[1;32mIn[2], line 3\u001b[0m\n\u001b[0;32m      1\u001b[0m \u001b[38;5;66;03m#importing a csv file\u001b[39;00m\n\u001b[0;32m      2\u001b[0m file_path \u001b[38;5;241m=\u001b[39m \u001b[38;5;124m'\u001b[39m\u001b[38;5;124mCar_sales.csv\u001b[39m\u001b[38;5;124m'\u001b[39m\n\u001b[1;32m----> 3\u001b[0m data \u001b[38;5;241m=\u001b[39m pd\u001b[38;5;241m.\u001b[39mread_csv(file_path)\n",
      "File \u001b[1;32m~\\Anancoda 2\\Lib\\site-packages\\pandas\\io\\parsers\\readers.py:948\u001b[0m, in \u001b[0;36mread_csv\u001b[1;34m(filepath_or_buffer, sep, delimiter, header, names, index_col, usecols, dtype, engine, converters, true_values, false_values, skipinitialspace, skiprows, skipfooter, nrows, na_values, keep_default_na, na_filter, verbose, skip_blank_lines, parse_dates, infer_datetime_format, keep_date_col, date_parser, date_format, dayfirst, cache_dates, iterator, chunksize, compression, thousands, decimal, lineterminator, quotechar, quoting, doublequote, escapechar, comment, encoding, encoding_errors, dialect, on_bad_lines, delim_whitespace, low_memory, memory_map, float_precision, storage_options, dtype_backend)\u001b[0m\n\u001b[0;32m    935\u001b[0m kwds_defaults \u001b[38;5;241m=\u001b[39m _refine_defaults_read(\n\u001b[0;32m    936\u001b[0m     dialect,\n\u001b[0;32m    937\u001b[0m     delimiter,\n\u001b[1;32m   (...)\u001b[0m\n\u001b[0;32m    944\u001b[0m     dtype_backend\u001b[38;5;241m=\u001b[39mdtype_backend,\n\u001b[0;32m    945\u001b[0m )\n\u001b[0;32m    946\u001b[0m kwds\u001b[38;5;241m.\u001b[39mupdate(kwds_defaults)\n\u001b[1;32m--> 948\u001b[0m \u001b[38;5;28;01mreturn\u001b[39;00m _read(filepath_or_buffer, kwds)\n",
      "File \u001b[1;32m~\\Anancoda 2\\Lib\\site-packages\\pandas\\io\\parsers\\readers.py:611\u001b[0m, in \u001b[0;36m_read\u001b[1;34m(filepath_or_buffer, kwds)\u001b[0m\n\u001b[0;32m    608\u001b[0m _validate_names(kwds\u001b[38;5;241m.\u001b[39mget(\u001b[38;5;124m\"\u001b[39m\u001b[38;5;124mnames\u001b[39m\u001b[38;5;124m\"\u001b[39m, \u001b[38;5;28;01mNone\u001b[39;00m))\n\u001b[0;32m    610\u001b[0m \u001b[38;5;66;03m# Create the parser.\u001b[39;00m\n\u001b[1;32m--> 611\u001b[0m parser \u001b[38;5;241m=\u001b[39m TextFileReader(filepath_or_buffer, \u001b[38;5;241m*\u001b[39m\u001b[38;5;241m*\u001b[39mkwds)\n\u001b[0;32m    613\u001b[0m \u001b[38;5;28;01mif\u001b[39;00m chunksize \u001b[38;5;129;01mor\u001b[39;00m iterator:\n\u001b[0;32m    614\u001b[0m     \u001b[38;5;28;01mreturn\u001b[39;00m parser\n",
      "File \u001b[1;32m~\\Anancoda 2\\Lib\\site-packages\\pandas\\io\\parsers\\readers.py:1448\u001b[0m, in \u001b[0;36mTextFileReader.__init__\u001b[1;34m(self, f, engine, **kwds)\u001b[0m\n\u001b[0;32m   1445\u001b[0m     \u001b[38;5;28mself\u001b[39m\u001b[38;5;241m.\u001b[39moptions[\u001b[38;5;124m\"\u001b[39m\u001b[38;5;124mhas_index_names\u001b[39m\u001b[38;5;124m\"\u001b[39m] \u001b[38;5;241m=\u001b[39m kwds[\u001b[38;5;124m\"\u001b[39m\u001b[38;5;124mhas_index_names\u001b[39m\u001b[38;5;124m\"\u001b[39m]\n\u001b[0;32m   1447\u001b[0m \u001b[38;5;28mself\u001b[39m\u001b[38;5;241m.\u001b[39mhandles: IOHandles \u001b[38;5;241m|\u001b[39m \u001b[38;5;28;01mNone\u001b[39;00m \u001b[38;5;241m=\u001b[39m \u001b[38;5;28;01mNone\u001b[39;00m\n\u001b[1;32m-> 1448\u001b[0m \u001b[38;5;28mself\u001b[39m\u001b[38;5;241m.\u001b[39m_engine \u001b[38;5;241m=\u001b[39m \u001b[38;5;28mself\u001b[39m\u001b[38;5;241m.\u001b[39m_make_engine(f, \u001b[38;5;28mself\u001b[39m\u001b[38;5;241m.\u001b[39mengine)\n",
      "File \u001b[1;32m~\\Anancoda 2\\Lib\\site-packages\\pandas\\io\\parsers\\readers.py:1705\u001b[0m, in \u001b[0;36mTextFileReader._make_engine\u001b[1;34m(self, f, engine)\u001b[0m\n\u001b[0;32m   1703\u001b[0m     \u001b[38;5;28;01mif\u001b[39;00m \u001b[38;5;124m\"\u001b[39m\u001b[38;5;124mb\u001b[39m\u001b[38;5;124m\"\u001b[39m \u001b[38;5;129;01mnot\u001b[39;00m \u001b[38;5;129;01min\u001b[39;00m mode:\n\u001b[0;32m   1704\u001b[0m         mode \u001b[38;5;241m+\u001b[39m\u001b[38;5;241m=\u001b[39m \u001b[38;5;124m\"\u001b[39m\u001b[38;5;124mb\u001b[39m\u001b[38;5;124m\"\u001b[39m\n\u001b[1;32m-> 1705\u001b[0m \u001b[38;5;28mself\u001b[39m\u001b[38;5;241m.\u001b[39mhandles \u001b[38;5;241m=\u001b[39m get_handle(\n\u001b[0;32m   1706\u001b[0m     f,\n\u001b[0;32m   1707\u001b[0m     mode,\n\u001b[0;32m   1708\u001b[0m     encoding\u001b[38;5;241m=\u001b[39m\u001b[38;5;28mself\u001b[39m\u001b[38;5;241m.\u001b[39moptions\u001b[38;5;241m.\u001b[39mget(\u001b[38;5;124m\"\u001b[39m\u001b[38;5;124mencoding\u001b[39m\u001b[38;5;124m\"\u001b[39m, \u001b[38;5;28;01mNone\u001b[39;00m),\n\u001b[0;32m   1709\u001b[0m     compression\u001b[38;5;241m=\u001b[39m\u001b[38;5;28mself\u001b[39m\u001b[38;5;241m.\u001b[39moptions\u001b[38;5;241m.\u001b[39mget(\u001b[38;5;124m\"\u001b[39m\u001b[38;5;124mcompression\u001b[39m\u001b[38;5;124m\"\u001b[39m, \u001b[38;5;28;01mNone\u001b[39;00m),\n\u001b[0;32m   1710\u001b[0m     memory_map\u001b[38;5;241m=\u001b[39m\u001b[38;5;28mself\u001b[39m\u001b[38;5;241m.\u001b[39moptions\u001b[38;5;241m.\u001b[39mget(\u001b[38;5;124m\"\u001b[39m\u001b[38;5;124mmemory_map\u001b[39m\u001b[38;5;124m\"\u001b[39m, \u001b[38;5;28;01mFalse\u001b[39;00m),\n\u001b[0;32m   1711\u001b[0m     is_text\u001b[38;5;241m=\u001b[39mis_text,\n\u001b[0;32m   1712\u001b[0m     errors\u001b[38;5;241m=\u001b[39m\u001b[38;5;28mself\u001b[39m\u001b[38;5;241m.\u001b[39moptions\u001b[38;5;241m.\u001b[39mget(\u001b[38;5;124m\"\u001b[39m\u001b[38;5;124mencoding_errors\u001b[39m\u001b[38;5;124m\"\u001b[39m, \u001b[38;5;124m\"\u001b[39m\u001b[38;5;124mstrict\u001b[39m\u001b[38;5;124m\"\u001b[39m),\n\u001b[0;32m   1713\u001b[0m     storage_options\u001b[38;5;241m=\u001b[39m\u001b[38;5;28mself\u001b[39m\u001b[38;5;241m.\u001b[39moptions\u001b[38;5;241m.\u001b[39mget(\u001b[38;5;124m\"\u001b[39m\u001b[38;5;124mstorage_options\u001b[39m\u001b[38;5;124m\"\u001b[39m, \u001b[38;5;28;01mNone\u001b[39;00m),\n\u001b[0;32m   1714\u001b[0m )\n\u001b[0;32m   1715\u001b[0m \u001b[38;5;28;01massert\u001b[39;00m \u001b[38;5;28mself\u001b[39m\u001b[38;5;241m.\u001b[39mhandles \u001b[38;5;129;01mis\u001b[39;00m \u001b[38;5;129;01mnot\u001b[39;00m \u001b[38;5;28;01mNone\u001b[39;00m\n\u001b[0;32m   1716\u001b[0m f \u001b[38;5;241m=\u001b[39m \u001b[38;5;28mself\u001b[39m\u001b[38;5;241m.\u001b[39mhandles\u001b[38;5;241m.\u001b[39mhandle\n",
      "File \u001b[1;32m~\\Anancoda 2\\Lib\\site-packages\\pandas\\io\\common.py:863\u001b[0m, in \u001b[0;36mget_handle\u001b[1;34m(path_or_buf, mode, encoding, compression, memory_map, is_text, errors, storage_options)\u001b[0m\n\u001b[0;32m    858\u001b[0m \u001b[38;5;28;01melif\u001b[39;00m \u001b[38;5;28misinstance\u001b[39m(handle, \u001b[38;5;28mstr\u001b[39m):\n\u001b[0;32m    859\u001b[0m     \u001b[38;5;66;03m# Check whether the filename is to be opened in binary mode.\u001b[39;00m\n\u001b[0;32m    860\u001b[0m     \u001b[38;5;66;03m# Binary mode does not support 'encoding' and 'newline'.\u001b[39;00m\n\u001b[0;32m    861\u001b[0m     \u001b[38;5;28;01mif\u001b[39;00m ioargs\u001b[38;5;241m.\u001b[39mencoding \u001b[38;5;129;01mand\u001b[39;00m \u001b[38;5;124m\"\u001b[39m\u001b[38;5;124mb\u001b[39m\u001b[38;5;124m\"\u001b[39m \u001b[38;5;129;01mnot\u001b[39;00m \u001b[38;5;129;01min\u001b[39;00m ioargs\u001b[38;5;241m.\u001b[39mmode:\n\u001b[0;32m    862\u001b[0m         \u001b[38;5;66;03m# Encoding\u001b[39;00m\n\u001b[1;32m--> 863\u001b[0m         handle \u001b[38;5;241m=\u001b[39m \u001b[38;5;28mopen\u001b[39m(\n\u001b[0;32m    864\u001b[0m             handle,\n\u001b[0;32m    865\u001b[0m             ioargs\u001b[38;5;241m.\u001b[39mmode,\n\u001b[0;32m    866\u001b[0m             encoding\u001b[38;5;241m=\u001b[39mioargs\u001b[38;5;241m.\u001b[39mencoding,\n\u001b[0;32m    867\u001b[0m             errors\u001b[38;5;241m=\u001b[39merrors,\n\u001b[0;32m    868\u001b[0m             newline\u001b[38;5;241m=\u001b[39m\u001b[38;5;124m\"\u001b[39m\u001b[38;5;124m\"\u001b[39m,\n\u001b[0;32m    869\u001b[0m         )\n\u001b[0;32m    870\u001b[0m     \u001b[38;5;28;01melse\u001b[39;00m:\n\u001b[0;32m    871\u001b[0m         \u001b[38;5;66;03m# Binary mode\u001b[39;00m\n\u001b[0;32m    872\u001b[0m         handle \u001b[38;5;241m=\u001b[39m \u001b[38;5;28mopen\u001b[39m(handle, ioargs\u001b[38;5;241m.\u001b[39mmode)\n",
      "\u001b[1;31mFileNotFoundError\u001b[0m: [Errno 2] No such file or directory: 'Car_sales.csv'"
     ]
    }
   ],
   "source": [
    "#importing a csv file\n",
    "file_path = 'Car_sales.csv'\n",
    "data = pd.read_csv(file_path)"
   ]
  },
  {
   "cell_type": "code",
   "execution_count": null,
   "id": "c6e72db9-3fc1-47ed-b7a2-60f559b51c52",
   "metadata": {},
   "outputs": [],
   "source": [
    "data"
   ]
  },
  {
   "cell_type": "code",
   "execution_count": null,
   "id": "92bba131-0458-445f-a088-48daa8e143ac",
   "metadata": {},
   "outputs": [],
   "source": [
    "# 1. No. of rows and columns\n",
    "data.count(0)"
   ]
  },
  {
   "cell_type": "code",
   "execution_count": null,
   "id": "7d4819e8-1be6-4b6f-9b73-06c2a6fcf735",
   "metadata": {},
   "outputs": [],
   "source": [
    "#--for rows\n",
    "data.shape[0]"
   ]
  },
  {
   "cell_type": "code",
   "execution_count": null,
   "id": "d2c27eac-278b-46f5-9e25-88d42270891e",
   "metadata": {},
   "outputs": [],
   "source": [
    "#OR\n",
    "#1. No. of rows and columns in dataset\n",
    "No_of_rows = len(data.index)\n",
    "No_of_columns = len(data.columns)\n",
    "\n",
    "print(f\"No. of rows is: {No_of_rows}\")\n",
    "print(f\"No. of columns is: {No_of_columns}\")"
   ]
  },
  {
   "cell_type": "code",
   "execution_count": null,
   "id": "ed10ddde-90f6-431f-9868-e76b2ae9eaed",
   "metadata": {},
   "outputs": [],
   "source": [
    "#data types of each column\n",
    "data.dtypes"
   ]
  },
  {
   "cell_type": "code",
   "execution_count": null,
   "id": "6da623c1-0a7f-4b40-8834-d1de955d30dd",
   "metadata": {},
   "outputs": [],
   "source": [
    "#data types of each column\n",
    "data.dtypes"
   ]
  },
  {
   "cell_type": "code",
   "execution_count": null,
   "id": "118b7779-1428-43e0-b03e-9608e5be0cbf",
   "metadata": {},
   "outputs": [],
   "source": [
    "#3. Filling missing or null values\n",
    "# a. counting the number of missing values\n",
    "data.isna().sum()"
   ]
  },
  {
   "cell_type": "code",
   "execution_count": null,
   "id": "0b7a6bf4-dfff-4657-ba62-fab357336272",
   "metadata": {},
   "outputs": [],
   "source": [
    "#Filling the missing values in the year_resale_value\n",
    "average_ysv = data['__year_resale_value'].mean()\n",
    "data['__year_resale_value'].replace(np.nan, average_ysv, inplace= True)"
   ]
  },
  {
   "cell_type": "code",
   "execution_count": null,
   "id": "d6dbd7ac-ec19-4952-bc15-03a75c7b343d",
   "metadata": {},
   "outputs": [],
   "source": [
    "data"
   ]
  },
  {
   "cell_type": "code",
   "execution_count": null,
   "id": "e0e8f458-8577-4f4a-a90a-0b9c77133377",
   "metadata": {},
   "outputs": [],
   "source": [
    "#data['year_resale_value'] = data['year_resale_value'].fillna(data['year_resale_value']"
   ]
  },
  {
   "cell_type": "code",
   "execution_count": null,
   "id": "5b75f267-c019-46be-9c73-0cca84e0c23f",
   "metadata": {},
   "outputs": [],
   "source": [
    "data"
   ]
  },
  {
   "cell_type": "code",
   "execution_count": null,
   "id": "b445687e-25fc-43a5-8401-488bbcd696bc",
   "metadata": {},
   "outputs": [],
   "source": [
    "#drop missing columns\n",
    "data.dropna(inplace=True)"
   ]
  },
  {
   "cell_type": "code",
   "execution_count": null,
   "id": "fcec34f6-27da-46ac-bba2-cee8ebf7d38a",
   "metadata": {},
   "outputs": [],
   "source": [
    "data"
   ]
  },
  {
   "cell_type": "code",
   "execution_count": null,
   "id": "fc2f91ca-9efb-4569-aa3b-ae3c98dbb7c4",
   "metadata": {},
   "outputs": [],
   "source": [
    "#cleaning column name\n",
    "data.rename(columns={'__year_resale_value':'Year resale value'}, inplace=True)"
   ]
  },
  {
   "cell_type": "code",
   "execution_count": null,
   "id": "35145728-f588-486b-bee1-fda39d7b4d2c",
   "metadata": {},
   "outputs": [],
   "source": [
    "data"
   ]
  },
  {
   "cell_type": "code",
   "execution_count": null,
   "id": "0cbbdf25-76db-46bf-a3d6-c42495960934",
   "metadata": {},
   "outputs": [],
   "source": [
    "#4b. Performing descriptive statistics of the numerical columns\n",
    "data.describe()"
   ]
  },
  {
   "cell_type": "code",
   "execution_count": null,
   "id": "9988584c-208f-4327-972f-e65c5b6204bc",
   "metadata": {},
   "outputs": [],
   "source": [
    "#OR\n",
    "#Statistical Analysis\n",
    "median_no = data[['Sales_in_thousands',\t'Year resale value', 'Price_in_thousands', 'Engine_size', 'Horsepower',\t'Wheelbase', 'Width', 'Length', 'Curb_weight', 'Fuel_capacity',\t'Fuel_efficiency', 'Power_perf_factor']].median()\n",
    "mean_no = data[['Sales_in_thousands',\t'Year resale value', 'Price_in_thousands', 'Engine_size', 'Horsepower',\t'Wheelbase', 'Width', 'Length', 'Curb_weight', 'Fuel_capacity',\t'Fuel_efficiency', 'Power_perf_factor']].mean()\n",
    "std_no = data[['Sales_in_thousands',\t'Year resale value', 'Price_in_thousands', 'Engine_size', 'Horsepower',\t'Wheelbase', 'Width', 'Length', 'Curb_weight', 'Fuel_capacity',\t'Fuel_efficiency', 'Power_perf_factor']].std()"
   ]
  },
  {
   "cell_type": "code",
   "execution_count": null,
   "id": "00d529d1-c4d1-4301-9dd2-403859f5c540",
   "metadata": {},
   "outputs": [],
   "source": [
    "S_analysis =  pd.DataFrame([median_no, mean_no, std_no], index= ['Mean', 'Median', 'Std'])"
   ]
  },
  {
   "cell_type": "code",
   "execution_count": null,
   "id": "6c46386c-4d87-411d-948c-5aed25ef2737",
   "metadata": {},
   "outputs": [],
   "source": [
    "S_analysis"
   ]
  },
  {
   "cell_type": "code",
   "execution_count": null,
   "id": "ffa9ab62-eb22-4335-ac6e-3ef07a852bd6",
   "metadata": {},
   "outputs": [],
   "source": [
    "#Checking for duplicates\n",
    "data.duplicated()"
   ]
  },
  {
   "cell_type": "code",
   "execution_count": null,
   "id": "147d7fcb-f66f-48e0-9d4d-17e8e6438812",
   "metadata": {},
   "outputs": [],
   "source": [
    "data.duplicated().sum()"
   ]
  },
  {
   "cell_type": "code",
   "execution_count": null,
   "id": "52a02527-e969-402d-92d0-1aeafcf027dd",
   "metadata": {},
   "outputs": [],
   "source": [
    "average_no = data['Sales_in_thousands'].mean()"
   ]
  },
  {
   "cell_type": "code",
   "execution_count": null,
   "id": "9b9dc3f4-f81d-476c-af66-07cf51beb762",
   "metadata": {},
   "outputs": [],
   "source": [
    "#manufacturer with the highest and lowest average sales volume\n",
    "#a. Highest\n",
    "data.groupby('Manufacturer')['Sales_in_thousands'].mean().idxmax()"
   ]
  },
  {
   "cell_type": "code",
   "execution_count": null,
   "id": "dfa81844-3eb9-4759-b7c2-c9bcd058fa36",
   "metadata": {},
   "outputs": [],
   "source": [
    "#a. Lowest\n",
    "data.groupby('Manufacturer')['Sales_in_thousands'].mean().idxmin()"
   ]
  },
  {
   "cell_type": "code",
   "execution_count": null,
   "id": "3976934c-61f0-4ff2-bd24-d06a3bb3f6b4",
   "metadata": {},
   "outputs": [],
   "source": [
    "#Distritbution of CAR prices\n",
    "car_dist = data.groupby('Manufacturer')['Price_in_thousands'].sum()"
   ]
  },
  {
   "cell_type": "code",
   "execution_count": null,
   "id": "1ba8301a-b507-43d1-8e0d-b575ba97b060",
   "metadata": {},
   "outputs": [],
   "source": [
    "car_dist"
   ]
  },
  {
   "cell_type": "code",
   "execution_count": null,
   "id": "a9347b33-34ce-4677-b612-95b3767f4e0c",
   "metadata": {},
   "outputs": [],
   "source": [
    "car_dist.plot(kind= 'bar', figsize=(7, 4))\n",
    "plt.xlabel('Manufacturer')\n",
    "plt.ylabel('Sum of Prices')\n",
    "plt.title('Distribution of Car Prices')\n",
    "plt.show()"
   ]
  },
  {
   "cell_type": "code",
   "execution_count": null,
   "id": "83de7e99-0aed-4160-8921-24ac6eebbc8b",
   "metadata": {},
   "outputs": [],
   "source": [
    "#Data correlation\n",
    "data_correlation = data.corr(numeric_only=True)"
   ]
  },
  {
   "cell_type": "code",
   "execution_count": null,
   "id": "4a38421d-b8af-4d96-b0f0-e7e6b7d82f1f",
   "metadata": {},
   "outputs": [],
   "source": [
    "data_correlation"
   ]
  },
  {
   "cell_type": "code",
   "execution_count": null,
   "id": "1ff2b801-3e33-4c4f-8865-c575daad6104",
   "metadata": {},
   "outputs": [],
   "source": [
    "#Plotting the correlation\n",
    "plt.figure(figsize=(12,8))\n",
    "sns.heatmap(data_correlation, annot=True, cmap='coolwarm')\n",
    "plt.title('Correlation Matrix')\n",
    "plt.show()"
   ]
  },
  {
   "cell_type": "code",
   "execution_count": null,
   "id": "c6157db3-3a33-4282-98d1-be73b163b82a",
   "metadata": {},
   "outputs": [],
   "source": [
    "#Ploting the relationship between price and latest_launch\n",
    "#converting the latest_launch data type to datetime\n",
    "data[\"Latest_Launch\"] = pd.to_datetime(data[\"Latest_Launch\"])"
   ]
  },
  {
   "cell_type": "code",
   "execution_count": null,
   "id": "8497db2e-b7fe-46ea-a837-cabf31a3f163",
   "metadata": {},
   "outputs": [],
   "source": [
    "#changing data type\n",
    "df.Latest_Launch = df.Latest_Launch.astype('datetime64[ns]')\n",
    "df.Latest_Launch"
   ]
  },
  {
   "cell_type": "code",
   "execution_count": null,
   "id": "3acfebdf-6330-447b-bd4b-b8477b69ee4f",
   "metadata": {},
   "outputs": [],
   "source": [
    "#plotting\n",
    "sns.lineplot(x='Latest_Launch', y='Price_in_thousands', data=data)\n",
    "\n",
    "plt.show()"
   ]
  },
  {
   "cell_type": "code",
   "execution_count": null,
   "id": "ae642341-ef30-41bf-8e3c-93c234965e95",
   "metadata": {},
   "outputs": [],
   "source": [
    "#Grouping cars by manufacturers and analyze their average price and fuel efficiency\n",
    "Car_analysis = data.groupby('Manufacturer',as_index=False).agg({'Price_in_thousands':'mean', 'Fuel_efficiency':'count'})"
   ]
  },
  {
   "cell_type": "code",
   "execution_count": null,
   "id": "ac33353e-0635-43a0-907e-6534ea19e7df",
   "metadata": {},
   "outputs": [],
   "source": [
    "Car_analysis"
   ]
  },
  {
   "cell_type": "code",
   "execution_count": null,
   "id": "25fbc3ac-4294-4098-9be0-22d1c00746af",
   "metadata": {},
   "outputs": [],
   "source": [
    "#11. Identifying and Visualizing Most Popular car brands\n",
    "#a. Identifying\n",
    "Most_popular =  pd.DataFrame(data.groupby(['Manufacturer','Model'])['Sales_in_thousands'].max().sort_values(ascending=False))"
   ]
  },
  {
   "cell_type": "code",
   "execution_count": null,
   "id": "7ed4e878-daf2-40bd-98cd-d89544befdff",
   "metadata": {},
   "outputs": [],
   "source": [
    "Most_popular"
   ]
  },
  {
   "cell_type": "code",
   "execution_count": null,
   "id": "872607af-84ba-43dd-bc54-b85343ea09a7",
   "metadata": {
    "scrolled": true
   },
   "outputs": [],
   "source": [
    "#b. Visualizing the most popular car brands\n",
    "Car_brands = pd.DataFrame(data.groupby('Manufacturer')['Sales_in_thousands'].max().sort_values(ascending=False))\n",
    "Car_brands.plot(kind='bar', figsize=(8,2))\n",
    "plt.title('Distribution of Most Popular Car Brands')\n",
    "plt.show()"
   ]
  },
  {
   "cell_type": "code",
   "execution_count": null,
   "id": "d4b734f9-727f-404c-ae22-a0d0d2208262",
   "metadata": {},
   "outputs": [],
   "source": [
    "#12 Car model with highest resale value compared to it's initial price\n",
    "#model = data.pivot_table(index='Year resale value', columns='Model', values='Price_in_thousands').max().sort_values(ascending=False)\n",
    "model = pd.DataFrame(data.groupby(['Model', 'Price_in_thousands'])['Year resale value'].max().sort_values(ascending=False))"
   ]
  },
  {
   "cell_type": "code",
   "execution_count": null,
   "id": "cef7bec0-2219-4c38-b297-58f94579f8ee",
   "metadata": {},
   "outputs": [],
   "source": [
    "model"
   ]
  },
  {
   "cell_type": "code",
   "execution_count": null,
   "id": "1152aeab-a386-4351-a895-16dcc7b4d4ed",
   "metadata": {},
   "outputs": [],
   "source": [
    "#13. Top 3 Fuel efficient cars with an engine size above 2.5 litres\n",
    "top_engine = data[data['Engine_size']>2.5]\n",
    "\n",
    "Efficient_car = top_engine.sort_values(by='Fuel_efficiency', ascending=False).reset_index(drop=True)\n",
    "\n",
    "TOP3_cars = Efficient_car.head(3)"
   ]
  },
  {
   "cell_type": "code",
   "execution_count": null,
   "id": "51740efe-15c7-49c1-9e89-71cd171a2d5d",
   "metadata": {},
   "outputs": [],
   "source": [
    "TOP3_cars"
   ]
  },
  {
   "cell_type": "code",
   "execution_count": null,
   "id": "df89e459-a577-42fa-8d20-5c0e85768f86",
   "metadata": {},
   "outputs": [],
   "source": [
    "#14. Lexus model with highest Horsepower\n",
    "data.groupby([{'Manufacturer':'Lexus'}, 'Model'])['Horsepower'].count().sort_values(ascending= False)\n",
    "#data.pivot_table(columns ={'Manufacturer':'Lexus'}, values='Horsepower', aggfunc=max) #.sort_values(ascending= False).head(1)"
   ]
  },
  {
   "cell_type": "code",
   "execution_count": null,
   "id": "cdda4266-eea6-47ac-a1e2-d70fc85a6afb",
   "metadata": {},
   "outputs": [],
   "source": []
  }
 ],
 "metadata": {
  "kernelspec": {
   "display_name": "Python 3 (ipykernel)",
   "language": "python",
   "name": "python3"
  },
  "language_info": {
   "codemirror_mode": {
    "name": "ipython",
    "version": 3
   },
   "file_extension": ".py",
   "mimetype": "text/x-python",
   "name": "python",
   "nbconvert_exporter": "python",
   "pygments_lexer": "ipython3",
   "version": "3.11.7"
  }
 },
 "nbformat": 4,
 "nbformat_minor": 5
}
